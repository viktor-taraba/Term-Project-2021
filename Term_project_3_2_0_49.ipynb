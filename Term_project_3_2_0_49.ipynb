{
  "nbformat": 4,
  "nbformat_minor": 0,
  "metadata": {
    "colab": {
      "name": "Term project 3.2.ipynb",
      "provenance": [],
      "authorship_tag": "ABX9TyO0zmUyNrsWLx7RIBqWkfwT",
      "include_colab_link": true
    },
    "kernelspec": {
      "name": "python3",
      "display_name": "Python 3"
    },
    "language_info": {
      "name": "python"
    }
  },
  "cells": [
    {
      "cell_type": "markdown",
      "metadata": {
        "id": "view-in-github",
        "colab_type": "text"
      },
      "source": [
        "<a href=\"https://colab.research.google.com/github/Victor-T2001/Term-Project-2021/blob/main/Term_project_3_2_0_49.ipynb\" target=\"_parent\"><img src=\"https://colab.research.google.com/assets/colab-badge.svg\" alt=\"Open In Colab\"/></a>"
      ]
    },
    {
      "cell_type": "code",
      "metadata": {
        "id": "KBT1tXQQgh3N"
      },
      "source": [
        "from sklearn.model_selection import train_test_split\n",
        "import pandas as pd\n",
        "import tensorflow\n",
        "from tensorflow import keras\n",
        "from tensorflow.keras import layers\n",
        "from keras.utils.vis_utils import plot_model\n",
        "import random, numpy\n",
        "from numpy.random import seed\n",
        "\n",
        "SEED = 12345"
      ],
      "execution_count": 2,
      "outputs": []
    },
    {
      "cell_type": "code",
      "metadata": {
        "id": "NMeERxkqguQe"
      },
      "source": [
        "df = pd.read_excel('Data for NN SP500.xlsx')\n",
        "df.index = pd.to_datetime(df.Date)\n",
        "df.drop(['Date'], axis='columns', inplace=True)\n",
        "# df.head()"
      ],
      "execution_count": 3,
      "outputs": []
    },
    {
      "cell_type": "code",
      "metadata": {
        "id": "zACjaiUBg4qn"
      },
      "source": [
        "X = df.copy()\n",
        "Y = X.pop('Y')\n",
        "X_train, X_valid, y_train, y_valid = train_test_split(X, Y, train_size=0.7, random_state=42, shuffle=False)"
      ],
      "execution_count": 4,
      "outputs": []
    },
    {
      "cell_type": "code",
      "metadata": {
        "id": "o4J4NEtsg78y"
      },
      "source": [
        "# X_train.tail()\n",
        "# X_valid.head()\n",
        "# y_train\n",
        "# y_valid\n",
        "input_shape = [X_train.shape[1]]\n",
        "# input_shape"
      ],
      "execution_count": 5,
      "outputs": []
    },
    {
      "cell_type": "code",
      "metadata": {
        "colab": {
          "base_uri": "https://localhost:8080/"
        },
        "id": "cmXu5QLChFb2",
        "outputId": "80b7d5b0-5d8c-4cde-bd38-aec600f8a8af"
      },
      "source": [
        "from tensorflow.python.framework import ops\n",
        "ops.reset_default_graph()\n",
        "\n",
        "seed(SEED)\n",
        "tensorflow.random.set_seed(SEED)\n",
        "random.seed(SEED)\n",
        "numpy.random.seed(SEED)\n",
        "\n",
        "model = keras.Sequential([\n",
        "    # layers.BatchNormalization(input_shape=input_shape),\n",
        "    layers.Dense(32, activation='relu'),\n",
        "    # layers.Dropout(rate=0.2),\n",
        "    layers.Dense(17, activation='relu'),\n",
        "    # layers.Dropout(rate=0.2),    \n",
        "    layers.Dense(1, activation='sigmoid')\n",
        "])\n",
        "\n",
        "model.compile(\n",
        "    optimizer='adam',\n",
        "    loss='binary_crossentropy',\n",
        "    metrics=['binary_accuracy'])\n",
        "\n",
        "early_stopping = keras.callbacks.EarlyStopping(\n",
        "    patience=4,\n",
        "    min_delta=0.001,\n",
        "    restore_best_weights=False,\n",
        ")\n",
        "\n",
        "history = model.fit(\n",
        "    X_train, y_train,\n",
        "    validation_data=(X_valid, y_valid),\n",
        "    batch_size=512,\n",
        "    epochs=40,\n",
        "    verbose=0,\n",
        "    callbacks=[early_stopping]\n",
        ")\n",
        "\n",
        "print(\"model 1 \" + str(history.history['binary_accuracy'][-1]))"
      ],
      "execution_count": 43,
      "outputs": [
        {
          "output_type": "stream",
          "text": [
            "model 1 0.5347391366958618\n"
          ],
          "name": "stdout"
        }
      ]
    },
    {
      "cell_type": "code",
      "metadata": {
        "id": "X7O6s4_Vh2Ol"
      },
      "source": [
        "# model.predict(X_valid, verbose=1)"
      ],
      "execution_count": 30,
      "outputs": []
    },
    {
      "cell_type": "code",
      "metadata": {
        "id": "tAL9KP4QnjqA"
      },
      "source": [
        "# predicted = pd.DataFrame(model.predict(X_valid, verbose=1))"
      ],
      "execution_count": 29,
      "outputs": []
    },
    {
      "cell_type": "code",
      "metadata": {
        "id": "YvHrCZTsnt-O"
      },
      "source": [
        "# predicted"
      ],
      "execution_count": 28,
      "outputs": []
    },
    {
      "cell_type": "code",
      "metadata": {
        "id": "J4TDXV95n4y4"
      },
      "source": [
        "# predicted.to_excel('/content/check predicted values.xlsx')"
      ],
      "execution_count": 27,
      "outputs": []
    },
    {
      "cell_type": "code",
      "metadata": {
        "id": "5aJTGr0qnyxs"
      },
      "source": [
        "# predicted_true = pd.DataFrame(y_valid)"
      ],
      "execution_count": 11,
      "outputs": []
    },
    {
      "cell_type": "code",
      "metadata": {
        "id": "atJHZXY7pZ9p"
      },
      "source": [
        "# predicted_true.to_excel('/content/check predicted values true.xlsx')"
      ],
      "execution_count": 13,
      "outputs": []
    },
    {
      "cell_type": "code",
      "metadata": {
        "id": "HcMaLunZpb-2"
      },
      "source": [
        "# history_df = pd.DataFrame(history.history)\n",
        "# history_df.loc[:, ['loss', 'val_loss']].plot(title=\"Cross-entropy\", colormap='bwr')\n",
        "\n",
        "# plot2 = history_df.loc[:, ['binary_accuracy', 'val_binary_accuracy']].plot(title=\"Accuracy\", colormap='bwr')\n",
        "# fig = plot2.get_figure()\n",
        "# fig.savefig(\"/content/sample_data/output2.png\")\n",
        "\n",
        "# plot_model(model, to_file='model_plot.png', show_shapes=True, show_layer_names=True)"
      ],
      "execution_count": null,
      "outputs": []
    },
    {
      "cell_type": "code",
      "metadata": {
        "id": "-YCR8TKwwOYl"
      },
      "source": [
        "def neural_network(nodes_first, nodes_second, batch, dropout_include, SEED, X_train, y_train, X_valid, y_valid, rate=None):\n",
        "  from tensorflow.python.framework import ops\n",
        "  ops.reset_default_graph()\n",
        "\n",
        "  seed(SEED)\n",
        "  tensorflow.random.set_seed(SEED)\n",
        "  random.seed(SEED)\n",
        "  numpy.random.seed(SEED)\n",
        "\n",
        "  if dropout_include:\n",
        "      model = keras.Sequential([\n",
        "          layers.Dense(nodes_first, activation='relu'),\n",
        "          layers.Dense(nodes_second, activation='relu'),  \n",
        "          layers.Dense(1, activation='sigmoid')\n",
        "      ])\n",
        "  else:\n",
        "      model = keras.Sequential([\n",
        "          layers.Dense(nodes_first, activation='relu'),\n",
        "          layers.Dropout(rate=0.3),\n",
        "          layers.Dense(nodes_second, activation='relu'),\n",
        "          layers.Dropout(rate=0.3),    \n",
        "          layers.Dense(1, activation='sigmoid')\n",
        "      ])\n",
        "\n",
        "  model.compile(\n",
        "      optimizer='adam',\n",
        "      loss='binary_crossentropy',\n",
        "      metrics=['binary_accuracy'])\n",
        "\n",
        "  early_stopping = keras.callbacks.EarlyStopping(\n",
        "      patience=4,\n",
        "      min_delta=0.001,\n",
        "      restore_best_weights=False,\n",
        "  )\n",
        "\n",
        "  history = model.fit(\n",
        "      X_train, y_train,\n",
        "      validation_data=(X_valid, y_valid),\n",
        "      batch_size=batch,\n",
        "      epochs=40,\n",
        "      verbose=0,\n",
        "      callbacks=[early_stopping]\n",
        "  )\n",
        "\n",
        "  print(\"model: nodes_first= \"+str(nodes_first)+\n",
        "        \", nodes_second=\" + str(nodes_second) +\n",
        "        \", batch=\" + str(batch) +\n",
        "        \", dropout_include=\" + str(dropout_include) +\n",
        "        \". Binary accuracy: \" + str(history.history['binary_accuracy'][-1]))"
      ],
      "execution_count": 50,
      "outputs": []
    },
    {
      "cell_type": "code",
      "metadata": {
        "id": "Bb3gDFIpwH8X",
        "outputId": "83b04ed0-8eff-4e62-85b1-98a5421fbf71",
        "colab": {
          "base_uri": "https://localhost:8080/"
        }
      },
      "source": [
        "# for nodes in [16, 17]:\n",
        "  # neural_network(nodes, SEED, X_train, y_train, X_valid, y_valid)"
      ],
      "execution_count": 42,
      "outputs": [
        {
          "output_type": "stream",
          "text": [
            "model 16 0.5323060154914856\n",
            "model 17 0.5347391366958618\n"
          ],
          "name": "stdout"
        }
      ]
    },
    {
      "cell_type": "code",
      "metadata": {
        "id": "608JHpebutrD",
        "outputId": "26674dca-d295-4fc6-ee2b-2d48f45fe19a",
        "colab": {
          "base_uri": "https://localhost:8080/"
        }
      },
      "source": [
        "for dropout_include in [True, False]:\n",
        "  for batch in [64, 128, 256, 512, 1024]:\n",
        "    for nodes_first in [8, 16, 32]:\n",
        "      for nodes_second in [8, 16, 32]:\n",
        "          neural_network(nodes_first, nodes_second, batch, dropout_include, SEED, X_train, y_train, X_valid, y_valid, rate=None)"
      ],
      "execution_count": 51,
      "outputs": [
        {
          "output_type": "stream",
          "text": [
            "model: nodes_first= 8, nodes_second=8, batch=64, dropout_include=True. Binary accuracy: 0.5347391366958618\n",
            "model: nodes_first= 8, nodes_second=16, batch=64, dropout_include=True. Binary accuracy: 0.5293322801589966\n",
            "model: nodes_first= 8, nodes_second=32, batch=64, dropout_include=True. Binary accuracy: 0.5382536053657532\n",
            "model: nodes_first= 16, nodes_second=8, batch=64, dropout_include=True. Binary accuracy: 0.5371721982955933\n",
            "model: nodes_first= 16, nodes_second=16, batch=64, dropout_include=True. Binary accuracy: 0.5382536053657532\n",
            "model: nodes_first= 16, nodes_second=32, batch=64, dropout_include=True. Binary accuracy: 0.5336577296257019\n",
            "model: nodes_first= 32, nodes_second=8, batch=64, dropout_include=True. Binary accuracy: 0.5387942790985107\n",
            "model: nodes_first= 32, nodes_second=16, batch=64, dropout_include=True. Binary accuracy: 0.5287915468215942\n",
            "model: nodes_first= 32, nodes_second=32, batch=64, dropout_include=True. Binary accuracy: 0.5328466892242432\n",
            "model: nodes_first= 8, nodes_second=8, batch=128, dropout_include=True. Binary accuracy: 0.5333874225616455\n",
            "model: nodes_first= 8, nodes_second=16, batch=128, dropout_include=True. Binary accuracy: 0.5323060154914856\n",
            "model: nodes_first= 8, nodes_second=32, batch=128, dropout_include=True. Binary accuracy: 0.5352798104286194\n",
            "model: nodes_first= 16, nodes_second=8, batch=128, dropout_include=True. Binary accuracy: 0.5374425649642944\n",
            "model: nodes_first= 16, nodes_second=16, batch=128, dropout_include=True. Binary accuracy: 0.5385239124298096\n",
            "model: nodes_first= 16, nodes_second=32, batch=128, dropout_include=True. Binary accuracy: 0.5331170558929443\n",
            "model: nodes_first= 32, nodes_second=8, batch=128, dropout_include=True. Binary accuracy: 0.5377128720283508\n",
            "model: nodes_first= 32, nodes_second=16, batch=128, dropout_include=True. Binary accuracy: 0.5333874225616455\n",
            "model: nodes_first= 32, nodes_second=32, batch=128, dropout_include=True. Binary accuracy: 0.5355501770973206\n",
            "model: nodes_first= 8, nodes_second=8, batch=256, dropout_include=True. Binary accuracy: 0.5347391366958618\n",
            "model: nodes_first= 8, nodes_second=16, batch=256, dropout_include=True. Binary accuracy: 0.5344687700271606\n",
            "model: nodes_first= 8, nodes_second=32, batch=256, dropout_include=True. Binary accuracy: 0.535820484161377\n",
            "model: nodes_first= 16, nodes_second=8, batch=256, dropout_include=True. Binary accuracy: 0.5366315245628357\n",
            "model: nodes_first= 16, nodes_second=16, batch=256, dropout_include=True. Binary accuracy: 0.5323060154914856\n",
            "model: nodes_first= 16, nodes_second=32, batch=256, dropout_include=True. Binary accuracy: 0.531765341758728\n",
            "model: nodes_first= 32, nodes_second=8, batch=256, dropout_include=True. Binary accuracy: 0.5417680740356445\n",
            "model: nodes_first= 32, nodes_second=16, batch=256, dropout_include=True. Binary accuracy: 0.5344687700271606\n",
            "model: nodes_first= 32, nodes_second=32, batch=256, dropout_include=True. Binary accuracy: 0.5404163002967834\n",
            "model: nodes_first= 8, nodes_second=8, batch=512, dropout_include=True. Binary accuracy: 0.5323060154914856\n",
            "model: nodes_first= 8, nodes_second=16, batch=512, dropout_include=True. Binary accuracy: 0.5266287922859192\n",
            "model: nodes_first= 8, nodes_second=32, batch=512, dropout_include=True. Binary accuracy: 0.5352798104286194\n",
            "model: nodes_first= 16, nodes_second=8, batch=512, dropout_include=True. Binary accuracy: 0.5360908508300781\n",
            "model: nodes_first= 16, nodes_second=16, batch=512, dropout_include=True. Binary accuracy: 0.5193295478820801\n",
            "model: nodes_first= 16, nodes_second=32, batch=512, dropout_include=True. Binary accuracy: 0.5206812620162964\n",
            "model: nodes_first= 32, nodes_second=8, batch=512, dropout_include=True. Binary accuracy: 0.5414977073669434\n",
            "model: nodes_first= 32, nodes_second=16, batch=512, dropout_include=True. Binary accuracy: 0.5323060154914856\n",
            "model: nodes_first= 32, nodes_second=32, batch=512, dropout_include=True. Binary accuracy: 0.5366315245628357\n",
            "model: nodes_first= 8, nodes_second=8, batch=1024, dropout_include=True. Binary accuracy: 0.5198702216148376\n",
            "model: nodes_first= 8, nodes_second=16, batch=1024, dropout_include=True. Binary accuracy: 0.5268991589546204\n",
            "model: nodes_first= 8, nodes_second=32, batch=1024, dropout_include=True. Binary accuracy: 0.5325763821601868\n",
            "model: nodes_first= 16, nodes_second=8, batch=1024, dropout_include=True. Binary accuracy: 0.5355501770973206\n",
            "model: nodes_first= 16, nodes_second=16, batch=1024, dropout_include=True. Binary accuracy: 0.5182482004165649\n",
            "model: nodes_first= 16, nodes_second=32, batch=1024, dropout_include=True. Binary accuracy: 0.521221935749054\n",
            "model: nodes_first= 32, nodes_second=8, batch=1024, dropout_include=True. Binary accuracy: 0.529602587223053\n",
            "model: nodes_first= 32, nodes_second=16, batch=1024, dropout_include=True. Binary accuracy: 0.5312246680259705\n",
            "model: nodes_first= 32, nodes_second=32, batch=1024, dropout_include=True. Binary accuracy: 0.5350094437599182\n",
            "model: nodes_first= 8, nodes_second=8, batch=64, dropout_include=False. Binary accuracy: 0.5268991589546204\n",
            "model: nodes_first= 8, nodes_second=16, batch=64, dropout_include=False. Binary accuracy: 0.5252770781517029\n",
            "model: nodes_first= 8, nodes_second=32, batch=64, dropout_include=False. Binary accuracy: 0.529602587223053\n",
            "model: nodes_first= 16, nodes_second=8, batch=64, dropout_include=False. Binary accuracy: 0.5220329761505127\n",
            "model: nodes_first= 16, nodes_second=16, batch=64, dropout_include=False. Binary accuracy: 0.5195999145507812\n",
            "model: nodes_first= 16, nodes_second=32, batch=64, dropout_include=False. Binary accuracy: 0.5179778337478638\n",
            "model: nodes_first= 32, nodes_second=8, batch=64, dropout_include=False. Binary accuracy: 0.531765341758728\n",
            "model: nodes_first= 32, nodes_second=16, batch=64, dropout_include=False. Binary accuracy: 0.5279805064201355\n",
            "model: nodes_first= 32, nodes_second=32, batch=64, dropout_include=False. Binary accuracy: 0.5244660973548889\n",
            "model: nodes_first= 8, nodes_second=8, batch=128, dropout_include=False. Binary accuracy: 0.521221935749054\n",
            "model: nodes_first= 8, nodes_second=16, batch=128, dropout_include=False. Binary accuracy: 0.5298729538917542\n",
            "model: nodes_first= 8, nodes_second=32, batch=128, dropout_include=False. Binary accuracy: 0.5220329761505127\n",
            "model: nodes_first= 16, nodes_second=8, batch=128, dropout_include=False. Binary accuracy: 0.5312246680259705\n",
            "model: nodes_first= 16, nodes_second=16, batch=128, dropout_include=False. Binary accuracy: 0.5304136276245117\n",
            "model: nodes_first= 16, nodes_second=32, batch=128, dropout_include=False. Binary accuracy: 0.5147337317466736\n",
            "model: nodes_first= 32, nodes_second=8, batch=128, dropout_include=False. Binary accuracy: 0.5263584852218628\n",
            "model: nodes_first= 32, nodes_second=16, batch=128, dropout_include=False. Binary accuracy: 0.5125709772109985\n",
            "model: nodes_first= 32, nodes_second=32, batch=128, dropout_include=False. Binary accuracy: 0.5285212397575378\n",
            "model: nodes_first= 8, nodes_second=8, batch=256, dropout_include=False. Binary accuracy: 0.5258178114891052\n",
            "model: nodes_first= 8, nodes_second=16, batch=256, dropout_include=False. Binary accuracy: 0.5250067710876465\n",
            "model: nodes_first= 8, nodes_second=32, batch=256, dropout_include=False. Binary accuracy: 0.5320357084274292\n",
            "model: nodes_first= 16, nodes_second=8, batch=256, dropout_include=False. Binary accuracy: 0.5204108953475952\n",
            "model: nodes_first= 16, nodes_second=16, batch=256, dropout_include=False. Binary accuracy: 0.5106785893440247\n",
            "model: nodes_first= 16, nodes_second=32, batch=256, dropout_include=False. Binary accuracy: 0.5052716732025146\n",
            "model: nodes_first= 32, nodes_second=8, batch=256, dropout_include=False. Binary accuracy: 0.5263584852218628\n",
            "model: nodes_first= 32, nodes_second=16, batch=256, dropout_include=False. Binary accuracy: 0.5225736498832703\n",
            "model: nodes_first= 32, nodes_second=32, batch=256, dropout_include=False. Binary accuracy: 0.5090565085411072\n",
            "model: nodes_first= 8, nodes_second=8, batch=512, dropout_include=False. Binary accuracy: 0.5136523246765137\n",
            "model: nodes_first= 8, nodes_second=16, batch=512, dropout_include=False. Binary accuracy: 0.5293322801589966\n",
            "model: nodes_first= 8, nodes_second=32, batch=512, dropout_include=False. Binary accuracy: 0.525547444820404\n",
            "model: nodes_first= 16, nodes_second=8, batch=512, dropout_include=False. Binary accuracy: 0.5155447125434875\n",
            "model: nodes_first= 16, nodes_second=16, batch=512, dropout_include=False. Binary accuracy: 0.5133820176124573\n",
            "model: nodes_first= 16, nodes_second=32, batch=512, dropout_include=False. Binary accuracy: 0.5298729538917542\n",
            "model: nodes_first= 32, nodes_second=8, batch=512, dropout_include=False. Binary accuracy: 0.5214923024177551\n",
            "model: nodes_first= 32, nodes_second=16, batch=512, dropout_include=False. Binary accuracy: 0.5101378560066223\n",
            "model: nodes_first= 32, nodes_second=32, batch=512, dropout_include=False. Binary accuracy: 0.5198702216148376\n",
            "model: nodes_first= 8, nodes_second=8, batch=1024, dropout_include=False. Binary accuracy: 0.506623387336731\n",
            "model: nodes_first= 8, nodes_second=16, batch=1024, dropout_include=False. Binary accuracy: 0.5252770781517029\n",
            "model: nodes_first= 8, nodes_second=32, batch=1024, dropout_include=False. Binary accuracy: 0.512030303478241\n",
            "model: nodes_first= 16, nodes_second=8, batch=1024, dropout_include=False. Binary accuracy: 0.4987834692001343\n",
            "model: nodes_first= 16, nodes_second=16, batch=1024, dropout_include=False. Binary accuracy: 0.5028386116027832\n",
            "model: nodes_first= 16, nodes_second=32, batch=1024, dropout_include=False. Binary accuracy: 0.5139226913452148\n",
            "model: nodes_first= 32, nodes_second=8, batch=1024, dropout_include=False. Binary accuracy: 0.5123006105422974\n",
            "model: nodes_first= 32, nodes_second=16, batch=1024, dropout_include=False. Binary accuracy: 0.5112192630767822\n",
            "model: nodes_first= 32, nodes_second=32, batch=1024, dropout_include=False. Binary accuracy: 0.5106785893440247\n"
          ],
          "name": "stdout"
        }
      ]
    },
    {
      "cell_type": "code",
      "metadata": {
        "id": "2hHtaBamy-N_"
      },
      "source": [
        ""
      ],
      "execution_count": null,
      "outputs": []
    }
  ]
}