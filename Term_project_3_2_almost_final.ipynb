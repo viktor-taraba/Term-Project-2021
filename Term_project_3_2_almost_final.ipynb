{
  "nbformat": 4,
  "nbformat_minor": 0,
  "metadata": {
    "colab": {
      "name": "Term project 3.2.ipynb",
      "provenance": [],
      "authorship_tag": "ABX9TyNocWbX7ydquvpEBvxSVKi1",
      "include_colab_link": true
    },
    "kernelspec": {
      "name": "python3",
      "display_name": "Python 3"
    },
    "language_info": {
      "name": "python"
    }
  },
  "cells": [
    {
      "cell_type": "markdown",
      "metadata": {
        "id": "view-in-github",
        "colab_type": "text"
      },
      "source": [
        "<a href=\"https://colab.research.google.com/github/Victor-T2001/Term-Project-2021/blob/main/Term_project_3_2_almost_final.ipynb\" target=\"_parent\"><img src=\"https://colab.research.google.com/assets/colab-badge.svg\" alt=\"Open In Colab\"/></a>"
      ]
    },
    {
      "cell_type": "code",
      "metadata": {
        "id": "KBT1tXQQgh3N"
      },
      "source": [
        "from sklearn.model_selection import train_test_split\n",
        "import pandas as pd\n",
        "import tensorflow\n",
        "from tensorflow import keras\n",
        "from tensorflow.keras import layers\n",
        "from keras.utils.vis_utils import plot_model\n",
        "import random, numpy\n",
        "from numpy.random import seed\n",
        "\n",
        "SEED = 12345"
      ],
      "execution_count": 67,
      "outputs": []
    },
    {
      "cell_type": "code",
      "metadata": {
        "id": "NMeERxkqguQe"
      },
      "source": [
        "df = pd.read_excel('Data for NN SP500.xlsx')\n",
        "df.index = pd.to_datetime(df.Date)\n",
        "df.drop(['Date'], axis='columns', inplace=True)\n",
        "# df.head()"
      ],
      "execution_count": 68,
      "outputs": []
    },
    {
      "cell_type": "code",
      "metadata": {
        "id": "zACjaiUBg4qn"
      },
      "source": [
        "X = df.copy()\n",
        "Y = X.pop('Y')\n",
        "X_train, X_valid, y_train, y_valid = train_test_split(X, Y, train_size=0.7, random_state=42, shuffle=False)"
      ],
      "execution_count": 40,
      "outputs": []
    },
    {
      "cell_type": "code",
      "metadata": {
        "id": "o4J4NEtsg78y"
      },
      "source": [
        "# X_train.tail()\n",
        "# X_valid.head()\n",
        "# y_train\n",
        "# y_valid\n",
        "input_shape = [X_train.shape[1]]\n",
        "# input_shape"
      ],
      "execution_count": 41,
      "outputs": []
    },
    {
      "cell_type": "code",
      "metadata": {
        "colab": {
          "base_uri": "https://localhost:8080/",
          "height": 578
        },
        "id": "cmXu5QLChFb2",
        "outputId": "bc328d78-18fb-45c8-d617-b975a3004ac2"
      },
      "source": [
        "from tensorflow.python.framework import ops\n",
        "ops.reset_default_graph()\n",
        "\n",
        "seed(SEED)\n",
        "tensorflow.random.set_seed(SEED)\n",
        "random.seed(SEED)\n",
        "numpy.random.seed(SEED)\n",
        "\n",
        "model = keras.Sequential([\n",
        "    # layers.BatchNormalization(input_shape=input_shape),\n",
        "    layers.Dense(32, activation='relu'),\n",
        "    # layers.Dropout(rate=0.2),\n",
        "    layers.Dense(16, activation='relu'),\n",
        "    # layers.Dropout(rate=0.2),    \n",
        "    layers.Dense(1, activation='sigmoid')\n",
        "])\n",
        "\n",
        "model.compile(\n",
        "    optimizer='adam',\n",
        "    loss='binary_crossentropy',\n",
        "    metrics=['binary_accuracy'])\n",
        "\n",
        "early_stopping = keras.callbacks.EarlyStopping(\n",
        "    patience=10,\n",
        "    min_delta=0.001,\n",
        "    restore_best_weights=True,\n",
        ")\n",
        "\n",
        "history = model.fit(\n",
        "    X_train, y_train,\n",
        "    validation_data=(X_valid, y_valid),\n",
        "    batch_size=512,\n",
        "    epochs=25,\n",
        "    verbose=0,\n",
        "    callbacks=[early_stopping]\n",
        ")\n",
        "\n",
        "print(history.history['binary_accuracy'][-1])\n",
        "\n",
        "history_df = pd.DataFrame(history.history)\n",
        "history_df.loc[:, ['loss', 'val_loss']].plot(title=\"Cross-entropy\", colormap='bwr')\n",
        "history_df.loc[:, ['binary_accuracy', 'val_binary_accuracy']].plot(title=\"Accuracy\", colormap='bwr')\n",
        "\n",
        "# plot_model(model, to_file='model_plot.png', show_shapes=True, show_layer_names=True)"
      ],
      "execution_count": 61,
      "outputs": [
        {
          "output_type": "stream",
          "text": [
            "0.535820484161377\n"
          ],
          "name": "stdout"
        },
        {
          "output_type": "execute_result",
          "data": {
            "text/plain": [
              "<matplotlib.axes._subplots.AxesSubplot at 0x7fc864ee7390>"
            ]
          },
          "metadata": {
            "tags": []
          },
          "execution_count": 61
        },
        {
          "output_type": "display_data",
          "data": {
            "image/png": "[encoded data removed]",
            "text/plain": [
              "<Figure size 432x288 with 1 Axes>"
            ]
          },
          "metadata": {
            "tags": [],
            "needs_background": "light"
          }
        },
        {
          "output_type": "display_data",
          "data": {
            "image/png": "[encoded data removed]",
            "text/plain": [
              "<Figure size 432x288 with 1 Axes>"
            ]
          },
          "metadata": {
            "tags": [],
            "needs_background": "light"
          }
        }
      ]
    },
    {
      "cell_type": "code",
      "metadata": {
        "colab": {
          "base_uri": "https://localhost:8080/"
        },
        "id": "X7O6s4_Vh2Ol",
        "outputId": "a4a08d0d-253d-4a91-a2b3-ff5f450b2a71"
      },
      "source": [
        "model.predict(X_valid, verbose=1)"
      ],
      "execution_count": 62,
      "outputs": [
        {
          "output_type": "stream",
          "text": [
            "50/50 [==============================] - 0s 840us/step\n"
          ],
          "name": "stdout"
        },
        {
          "output_type": "execute_result",
          "data": {
            "text/plain": [
              "array([[0.5184862 ],\n",
              "       [0.52027047],\n",
              "       [0.53601366],\n",
              "       ...,\n",
              "       [0.51998186],\n",
              "       [0.51692593],\n",
              "       [0.51977533]], dtype=float32)"
            ]
          },
          "metadata": {
            "tags": []
          },
          "execution_count": 62
        }
      ]
    },
    {
      "cell_type": "code",
      "metadata": {
        "colab": {
          "base_uri": "https://localhost:8080/"
        },
        "id": "tAL9KP4QnjqA",
        "outputId": "d1ca5dbe-7aa5-4f7b-8f39-1b5f1f0d7720"
      },
      "source": [
        "predicted = pd.DataFrame(model.predict(X_valid, verbose=1))"
      ],
      "execution_count": 64,
      "outputs": [
        {
          "output_type": "stream",
          "text": [
            "50/50 [==============================] - 0s 904us/step\n"
          ],
          "name": "stdout"
        }
      ]
    },
    {
      "cell_type": "code",
      "metadata": {
        "colab": {
          "base_uri": "https://localhost:8080/",
          "height": 402
        },
        "id": "YvHrCZTsnt-O",
        "outputId": "12e6b3c5-2732-4384-be61-d6ea08a08bc8"
      },
      "source": [
        "predicted"
      ],
      "execution_count": 65,
      "outputs": [
        {
          "output_type": "execute_result",
          "data": {
            "text/html": [
              "<div>\n",
              "<style scoped>\n",
              "    .dataframe tbody tr th:only-of-type {\n",
              "        vertical-align: middle;\n",
              "    }\n",
              "\n",
              "    .dataframe tbody tr th {\n",
              "        vertical-align: top;\n",
              "    }\n",
              "\n",
              "    .dataframe thead th {\n",
              "        text-align: right;\n",
              "    }\n",
              "</style>\n",
              "<table border=\"1\" class=\"dataframe\">\n",
              "  <thead>\n",
              "    <tr style=\"text-align: right;\">\n",
              "      <th></th>\n",
              "      <th>0</th>\n",
              "    </tr>\n",
              "  </thead>\n",
              "  <tbody>\n",
              "    <tr>\n",
              "      <th>0</th>\n",
              "      <td>0.518486</td>\n",
              "    </tr>\n",
              "    <tr>\n",
              "      <th>1</th>\n",
              "      <td>0.520270</td>\n",
              "    </tr>\n",
              "    <tr>\n",
              "      <th>2</th>\n",
              "      <td>0.536014</td>\n",
              "    </tr>\n",
              "    <tr>\n",
              "      <th>3</th>\n",
              "      <td>0.578526</td>\n",
              "    </tr>\n",
              "    <tr>\n",
              "      <th>4</th>\n",
              "      <td>0.513689</td>\n",
              "    </tr>\n",
              "    <tr>\n",
              "      <th>...</th>\n",
              "      <td>...</td>\n",
              "    </tr>\n",
              "    <tr>\n",
              "      <th>1581</th>\n",
              "      <td>0.519525</td>\n",
              "    </tr>\n",
              "    <tr>\n",
              "      <th>1582</th>\n",
              "      <td>0.518597</td>\n",
              "    </tr>\n",
              "    <tr>\n",
              "      <th>1583</th>\n",
              "      <td>0.519982</td>\n",
              "    </tr>\n",
              "    <tr>\n",
              "      <th>1584</th>\n",
              "      <td>0.516926</td>\n",
              "    </tr>\n",
              "    <tr>\n",
              "      <th>1585</th>\n",
              "      <td>0.519775</td>\n",
              "    </tr>\n",
              "  </tbody>\n",
              "</table>\n",
              "<p>1586 rows × 1 columns</p>\n",
              "</div>"
            ],
            "text/plain": [
              "             0\n",
              "0     0.518486\n",
              "1     0.520270\n",
              "2     0.536014\n",
              "3     0.578526\n",
              "4     0.513689\n",
              "...        ...\n",
              "1581  0.519525\n",
              "1582  0.518597\n",
              "1583  0.519982\n",
              "1584  0.516926\n",
              "1585  0.519775\n",
              "\n",
              "[1586 rows x 1 columns]"
            ]
          },
          "metadata": {
            "tags": []
          },
          "execution_count": 65
        }
      ]
    },
    {
      "cell_type": "code",
      "metadata": {
        "id": "J4TDXV95n4y4"
      },
      "source": [
        "predicted.to_excel('d:\\Курсова\\Курсова 2021\\Data for NN SP500.xlsx')"
      ],
      "execution_count": 69,
      "outputs": []
    },
    {
      "cell_type": "code",
      "metadata": {
        "id": "5aJTGr0qnyxs"
      },
      "source": [
        ""
      ],
      "execution_count": null,
      "outputs": []
    }
  ]
}