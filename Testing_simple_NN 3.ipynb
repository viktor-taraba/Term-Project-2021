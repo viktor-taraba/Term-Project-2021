{
  "nbformat": 4,
  "nbformat_minor": 0,
  "metadata": {
    "colab": {
      "name": "Testing simple NN.ipynb",
      "provenance": [],
      "authorship_tag": "ABX9TyOdO/Z86jAXHwTGEIAMgThb",
      "include_colab_link": true
    },
    "kernelspec": {
      "name": "python3",
      "display_name": "Python 3"
    },
    "language_info": {
      "name": "python"
    }
  },
  "cells": [
    {
      "cell_type": "markdown",
      "metadata": {
        "id": "view-in-github",
        "colab_type": "text"
      },
      "source": [
        "<a href=\"https://colab.research.google.com/github/Victor-T2001/Term-Project-2021/blob/main/Testing_simple_NN%203.ipynb\" target=\"_parent\"><img src=\"https://colab.research.google.com/assets/colab-badge.svg\" alt=\"Open In Colab\"/></a>"
      ]
    },
    {
      "cell_type": "code",
      "metadata": {
        "id": "Ykh45xbvkmf-"
      },
      "source": [
        "from sklearn.model_selection import train_test_split"
      ],
      "execution_count": null,
      "outputs": []
    },
    {
      "cell_type": "code",
      "metadata": {
        "id": "WVcADiL-ksLo"
      },
      "source": [
        "import pandas as pd"
      ],
      "execution_count": null,
      "outputs": []
    },
    {
      "cell_type": "code",
      "metadata": {
        "id": "qYWKaWIplZnr"
      },
      "source": [
        "df = pd.read_excel('Data for NN.xlsx')"
      ],
      "execution_count": null,
      "outputs": []
    },
    {
      "cell_type": "code",
      "metadata": {
        "colab": {
          "base_uri": "https://localhost:8080/",
          "height": 313
        },
        "id": "-uBvf09Hld1_",
        "outputId": "67df9f70-b606-4174-a889-a3735fc283f6"
      },
      "source": [
        "df.head()"
      ],
      "execution_count": null,
      "outputs": [
        {
          "output_type": "execute_result",
          "data": {
            "text/html": [
              "<div>\n",
              "<style scoped>\n",
              "    .dataframe tbody tr th:only-of-type {\n",
              "        vertical-align: middle;\n",
              "    }\n",
              "\n",
              "    .dataframe tbody tr th {\n",
              "        vertical-align: top;\n",
              "    }\n",
              "\n",
              "    .dataframe thead th {\n",
              "        text-align: right;\n",
              "    }\n",
              "</style>\n",
              "<table border=\"1\" class=\"dataframe\">\n",
              "  <thead>\n",
              "    <tr style=\"text-align: right;\">\n",
              "      <th></th>\n",
              "      <th>Date</th>\n",
              "      <th>Percent change 1</th>\n",
              "      <th>Percent change 5</th>\n",
              "      <th>Percent change 30</th>\n",
              "      <th>Percent change Open</th>\n",
              "      <th>Percent change High</th>\n",
              "      <th>Percent change Low</th>\n",
              "      <th>Percent change Volume</th>\n",
              "      <th>DI</th>\n",
              "      <th>ERI</th>\n",
              "      <th>SMA 1</th>\n",
              "      <th>EMA 1</th>\n",
              "      <th>LWMA 1</th>\n",
              "      <th>MAE 1</th>\n",
              "      <th>MAE 2</th>\n",
              "      <th>MAE 3</th>\n",
              "      <th>CCI 1</th>\n",
              "      <th>SO 1</th>\n",
              "      <th>CMO 1</th>\n",
              "      <th>Y</th>\n",
              "    </tr>\n",
              "  </thead>\n",
              "  <tbody>\n",
              "    <tr>\n",
              "      <th>0</th>\n",
              "      <td>2000-03-14</td>\n",
              "      <td>-0.017685</td>\n",
              "      <td>0.002604</td>\n",
              "      <td>-0.025322</td>\n",
              "      <td>-0.008207</td>\n",
              "      <td>-0.002317</td>\n",
              "      <td>-0.004169</td>\n",
              "      <td>0.076666</td>\n",
              "      <td>-1</td>\n",
              "      <td>1</td>\n",
              "      <td>-1</td>\n",
              "      <td>-1</td>\n",
              "      <td>-1</td>\n",
              "      <td>-1</td>\n",
              "      <td>0</td>\n",
              "      <td>-1</td>\n",
              "      <td>-1</td>\n",
              "      <td>0</td>\n",
              "      <td>-1</td>\n",
              "      <td>1</td>\n",
              "    </tr>\n",
              "    <tr>\n",
              "      <th>1</th>\n",
              "      <td>2000-03-15</td>\n",
              "      <td>0.024273</td>\n",
              "      <td>0.018614</td>\n",
              "      <td>-0.012162</td>\n",
              "      <td>-0.017685</td>\n",
              "      <td>0.002036</td>\n",
              "      <td>-0.001589</td>\n",
              "      <td>0.190859</td>\n",
              "      <td>1</td>\n",
              "      <td>1</td>\n",
              "      <td>1</td>\n",
              "      <td>1</td>\n",
              "      <td>1</td>\n",
              "      <td>1</td>\n",
              "      <td>0</td>\n",
              "      <td>1</td>\n",
              "      <td>1</td>\n",
              "      <td>0</td>\n",
              "      <td>-1</td>\n",
              "      <td>1</td>\n",
              "    </tr>\n",
              "    <tr>\n",
              "      <th>2</th>\n",
              "      <td>2000-03-16</td>\n",
              "      <td>0.047646</td>\n",
              "      <td>0.040508</td>\n",
              "      <td>0.035022</td>\n",
              "      <td>0.024280</td>\n",
              "      <td>0.043262</td>\n",
              "      <td>0.025910</td>\n",
              "      <td>0.137780</td>\n",
              "      <td>1</td>\n",
              "      <td>1</td>\n",
              "      <td>1</td>\n",
              "      <td>1</td>\n",
              "      <td>1</td>\n",
              "      <td>1</td>\n",
              "      <td>0</td>\n",
              "      <td>1</td>\n",
              "      <td>1</td>\n",
              "      <td>0</td>\n",
              "      <td>1</td>\n",
              "      <td>1</td>\n",
              "    </tr>\n",
              "    <tr>\n",
              "      <th>3</th>\n",
              "      <td>2000-03-17</td>\n",
              "      <td>0.004114</td>\n",
              "      <td>0.049747</td>\n",
              "      <td>0.027720</td>\n",
              "      <td>0.047639</td>\n",
              "      <td>0.012931</td>\n",
              "      <td>0.043939</td>\n",
              "      <td>-0.126290</td>\n",
              "      <td>1</td>\n",
              "      <td>1</td>\n",
              "      <td>1</td>\n",
              "      <td>1</td>\n",
              "      <td>1</td>\n",
              "      <td>1</td>\n",
              "      <td>0</td>\n",
              "      <td>1</td>\n",
              "      <td>1</td>\n",
              "      <td>0</td>\n",
              "      <td>1</td>\n",
              "      <td>0</td>\n",
              "    </tr>\n",
              "    <tr>\n",
              "      <th>4</th>\n",
              "      <td>2000-03-20</td>\n",
              "      <td>-0.005353</td>\n",
              "      <td>0.052767</td>\n",
              "      <td>0.022649</td>\n",
              "      <td>0.004114</td>\n",
              "      <td>-0.004759</td>\n",
              "      <td>-0.003323</td>\n",
              "      <td>-0.289012</td>\n",
              "      <td>1</td>\n",
              "      <td>1</td>\n",
              "      <td>1</td>\n",
              "      <td>1</td>\n",
              "      <td>1</td>\n",
              "      <td>1</td>\n",
              "      <td>0</td>\n",
              "      <td>1</td>\n",
              "      <td>1</td>\n",
              "      <td>0</td>\n",
              "      <td>1</td>\n",
              "      <td>1</td>\n",
              "    </tr>\n",
              "  </tbody>\n",
              "</table>\n",
              "</div>"
            ],
            "text/plain": [
              "        Date  Percent change 1  Percent change 5  ...  SO 1  CMO 1  Y\n",
              "0 2000-03-14         -0.017685          0.002604  ...     0     -1  1\n",
              "1 2000-03-15          0.024273          0.018614  ...     0     -1  1\n",
              "2 2000-03-16          0.047646          0.040508  ...     0      1  1\n",
              "3 2000-03-17          0.004114          0.049747  ...     0      1  0\n",
              "4 2000-03-20         -0.005353          0.052767  ...     0      1  1\n",
              "\n",
              "[5 rows x 20 columns]"
            ]
          },
          "metadata": {
            "tags": []
          },
          "execution_count": 7
        }
      ]
    },
    {
      "cell_type": "code",
      "metadata": {
        "id": "HTHh2sQmluMN"
      },
      "source": [
        "df.index = pd.to_datetime(df.Date)"
      ],
      "execution_count": null,
      "outputs": []
    },
    {
      "cell_type": "code",
      "metadata": {
        "colab": {
          "base_uri": "https://localhost:8080/",
          "height": 342
        },
        "id": "6-xDlMh-l11M",
        "outputId": "c6b0c090-4dd8-402b-a566-62fb4a3273a6"
      },
      "source": [
        "df.head()"
      ],
      "execution_count": null,
      "outputs": [
        {
          "output_type": "execute_result",
          "data": {
            "text/html": [
              "<div>\n",
              "<style scoped>\n",
              "    .dataframe tbody tr th:only-of-type {\n",
              "        vertical-align: middle;\n",
              "    }\n",
              "\n",
              "    .dataframe tbody tr th {\n",
              "        vertical-align: top;\n",
              "    }\n",
              "\n",
              "    .dataframe thead th {\n",
              "        text-align: right;\n",
              "    }\n",
              "</style>\n",
              "<table border=\"1\" class=\"dataframe\">\n",
              "  <thead>\n",
              "    <tr style=\"text-align: right;\">\n",
              "      <th></th>\n",
              "      <th>Date</th>\n",
              "      <th>Percent change 1</th>\n",
              "      <th>Percent change 5</th>\n",
              "      <th>Percent change 30</th>\n",
              "      <th>Percent change Open</th>\n",
              "      <th>Percent change High</th>\n",
              "      <th>Percent change Low</th>\n",
              "      <th>Percent change Volume</th>\n",
              "      <th>DI</th>\n",
              "      <th>ERI</th>\n",
              "      <th>SMA 1</th>\n",
              "      <th>EMA 1</th>\n",
              "      <th>LWMA 1</th>\n",
              "      <th>MAE 1</th>\n",
              "      <th>MAE 2</th>\n",
              "      <th>MAE 3</th>\n",
              "      <th>CCI 1</th>\n",
              "      <th>SO 1</th>\n",
              "      <th>CMO 1</th>\n",
              "      <th>Y</th>\n",
              "    </tr>\n",
              "    <tr>\n",
              "      <th>Date</th>\n",
              "      <th></th>\n",
              "      <th></th>\n",
              "      <th></th>\n",
              "      <th></th>\n",
              "      <th></th>\n",
              "      <th></th>\n",
              "      <th></th>\n",
              "      <th></th>\n",
              "      <th></th>\n",
              "      <th></th>\n",
              "      <th></th>\n",
              "      <th></th>\n",
              "      <th></th>\n",
              "      <th></th>\n",
              "      <th></th>\n",
              "      <th></th>\n",
              "      <th></th>\n",
              "      <th></th>\n",
              "      <th></th>\n",
              "      <th></th>\n",
              "    </tr>\n",
              "  </thead>\n",
              "  <tbody>\n",
              "    <tr>\n",
              "      <th>2000-03-14</th>\n",
              "      <td>2000-03-14</td>\n",
              "      <td>-0.017685</td>\n",
              "      <td>0.002604</td>\n",
              "      <td>-0.025322</td>\n",
              "      <td>-0.008207</td>\n",
              "      <td>-0.002317</td>\n",
              "      <td>-0.004169</td>\n",
              "      <td>0.076666</td>\n",
              "      <td>-1</td>\n",
              "      <td>1</td>\n",
              "      <td>-1</td>\n",
              "      <td>-1</td>\n",
              "      <td>-1</td>\n",
              "      <td>-1</td>\n",
              "      <td>0</td>\n",
              "      <td>-1</td>\n",
              "      <td>-1</td>\n",
              "      <td>0</td>\n",
              "      <td>-1</td>\n",
              "      <td>1</td>\n",
              "    </tr>\n",
              "    <tr>\n",
              "      <th>2000-03-15</th>\n",
              "      <td>2000-03-15</td>\n",
              "      <td>0.024273</td>\n",
              "      <td>0.018614</td>\n",
              "      <td>-0.012162</td>\n",
              "      <td>-0.017685</td>\n",
              "      <td>0.002036</td>\n",
              "      <td>-0.001589</td>\n",
              "      <td>0.190859</td>\n",
              "      <td>1</td>\n",
              "      <td>1</td>\n",
              "      <td>1</td>\n",
              "      <td>1</td>\n",
              "      <td>1</td>\n",
              "      <td>1</td>\n",
              "      <td>0</td>\n",
              "      <td>1</td>\n",
              "      <td>1</td>\n",
              "      <td>0</td>\n",
              "      <td>-1</td>\n",
              "      <td>1</td>\n",
              "    </tr>\n",
              "    <tr>\n",
              "      <th>2000-03-16</th>\n",
              "      <td>2000-03-16</td>\n",
              "      <td>0.047646</td>\n",
              "      <td>0.040508</td>\n",
              "      <td>0.035022</td>\n",
              "      <td>0.024280</td>\n",
              "      <td>0.043262</td>\n",
              "      <td>0.025910</td>\n",
              "      <td>0.137780</td>\n",
              "      <td>1</td>\n",
              "      <td>1</td>\n",
              "      <td>1</td>\n",
              "      <td>1</td>\n",
              "      <td>1</td>\n",
              "      <td>1</td>\n",
              "      <td>0</td>\n",
              "      <td>1</td>\n",
              "      <td>1</td>\n",
              "      <td>0</td>\n",
              "      <td>1</td>\n",
              "      <td>1</td>\n",
              "    </tr>\n",
              "    <tr>\n",
              "      <th>2000-03-17</th>\n",
              "      <td>2000-03-17</td>\n",
              "      <td>0.004114</td>\n",
              "      <td>0.049747</td>\n",
              "      <td>0.027720</td>\n",
              "      <td>0.047639</td>\n",
              "      <td>0.012931</td>\n",
              "      <td>0.043939</td>\n",
              "      <td>-0.126290</td>\n",
              "      <td>1</td>\n",
              "      <td>1</td>\n",
              "      <td>1</td>\n",
              "      <td>1</td>\n",
              "      <td>1</td>\n",
              "      <td>1</td>\n",
              "      <td>0</td>\n",
              "      <td>1</td>\n",
              "      <td>1</td>\n",
              "      <td>0</td>\n",
              "      <td>1</td>\n",
              "      <td>0</td>\n",
              "    </tr>\n",
              "    <tr>\n",
              "      <th>2000-03-20</th>\n",
              "      <td>2000-03-20</td>\n",
              "      <td>-0.005353</td>\n",
              "      <td>0.052767</td>\n",
              "      <td>0.022649</td>\n",
              "      <td>0.004114</td>\n",
              "      <td>-0.004759</td>\n",
              "      <td>-0.003323</td>\n",
              "      <td>-0.289012</td>\n",
              "      <td>1</td>\n",
              "      <td>1</td>\n",
              "      <td>1</td>\n",
              "      <td>1</td>\n",
              "      <td>1</td>\n",
              "      <td>1</td>\n",
              "      <td>0</td>\n",
              "      <td>1</td>\n",
              "      <td>1</td>\n",
              "      <td>0</td>\n",
              "      <td>1</td>\n",
              "      <td>1</td>\n",
              "    </tr>\n",
              "  </tbody>\n",
              "</table>\n",
              "</div>"
            ],
            "text/plain": [
              "                 Date  Percent change 1  Percent change 5  ...  SO 1  CMO 1  Y\n",
              "Date                                                       ...                \n",
              "2000-03-14 2000-03-14         -0.017685          0.002604  ...     0     -1  1\n",
              "2000-03-15 2000-03-15          0.024273          0.018614  ...     0     -1  1\n",
              "2000-03-16 2000-03-16          0.047646          0.040508  ...     0      1  1\n",
              "2000-03-17 2000-03-17          0.004114          0.049747  ...     0      1  0\n",
              "2000-03-20 2000-03-20         -0.005353          0.052767  ...     0      1  1\n",
              "\n",
              "[5 rows x 20 columns]"
            ]
          },
          "metadata": {
            "tags": []
          },
          "execution_count": 9
        }
      ]
    },
    {
      "cell_type": "code",
      "metadata": {
        "colab": {
          "base_uri": "https://localhost:8080/",
          "height": 342
        },
        "id": "RiNzph7Xl28q",
        "outputId": "9210558d-7073-4737-c6fb-482c198536ac"
      },
      "source": [
        "df.drop(['Date'], axis='columns', inplace=True)\n",
        "df.head()"
      ],
      "execution_count": null,
      "outputs": [
        {
          "output_type": "execute_result",
          "data": {
            "text/html": [
              "<div>\n",
              "<style scoped>\n",
              "    .dataframe tbody tr th:only-of-type {\n",
              "        vertical-align: middle;\n",
              "    }\n",
              "\n",
              "    .dataframe tbody tr th {\n",
              "        vertical-align: top;\n",
              "    }\n",
              "\n",
              "    .dataframe thead th {\n",
              "        text-align: right;\n",
              "    }\n",
              "</style>\n",
              "<table border=\"1\" class=\"dataframe\">\n",
              "  <thead>\n",
              "    <tr style=\"text-align: right;\">\n",
              "      <th></th>\n",
              "      <th>Percent change 1</th>\n",
              "      <th>Percent change 5</th>\n",
              "      <th>Percent change 30</th>\n",
              "      <th>Percent change Open</th>\n",
              "      <th>Percent change High</th>\n",
              "      <th>Percent change Low</th>\n",
              "      <th>Percent change Volume</th>\n",
              "      <th>DI</th>\n",
              "      <th>ERI</th>\n",
              "      <th>SMA 1</th>\n",
              "      <th>EMA 1</th>\n",
              "      <th>LWMA 1</th>\n",
              "      <th>MAE 1</th>\n",
              "      <th>MAE 2</th>\n",
              "      <th>MAE 3</th>\n",
              "      <th>CCI 1</th>\n",
              "      <th>SO 1</th>\n",
              "      <th>CMO 1</th>\n",
              "      <th>Y</th>\n",
              "    </tr>\n",
              "    <tr>\n",
              "      <th>Date</th>\n",
              "      <th></th>\n",
              "      <th></th>\n",
              "      <th></th>\n",
              "      <th></th>\n",
              "      <th></th>\n",
              "      <th></th>\n",
              "      <th></th>\n",
              "      <th></th>\n",
              "      <th></th>\n",
              "      <th></th>\n",
              "      <th></th>\n",
              "      <th></th>\n",
              "      <th></th>\n",
              "      <th></th>\n",
              "      <th></th>\n",
              "      <th></th>\n",
              "      <th></th>\n",
              "      <th></th>\n",
              "      <th></th>\n",
              "    </tr>\n",
              "  </thead>\n",
              "  <tbody>\n",
              "    <tr>\n",
              "      <th>2000-03-14</th>\n",
              "      <td>-0.017685</td>\n",
              "      <td>0.002604</td>\n",
              "      <td>-0.025322</td>\n",
              "      <td>-0.008207</td>\n",
              "      <td>-0.002317</td>\n",
              "      <td>-0.004169</td>\n",
              "      <td>0.076666</td>\n",
              "      <td>-1</td>\n",
              "      <td>1</td>\n",
              "      <td>-1</td>\n",
              "      <td>-1</td>\n",
              "      <td>-1</td>\n",
              "      <td>-1</td>\n",
              "      <td>0</td>\n",
              "      <td>-1</td>\n",
              "      <td>-1</td>\n",
              "      <td>0</td>\n",
              "      <td>-1</td>\n",
              "      <td>1</td>\n",
              "    </tr>\n",
              "    <tr>\n",
              "      <th>2000-03-15</th>\n",
              "      <td>0.024273</td>\n",
              "      <td>0.018614</td>\n",
              "      <td>-0.012162</td>\n",
              "      <td>-0.017685</td>\n",
              "      <td>0.002036</td>\n",
              "      <td>-0.001589</td>\n",
              "      <td>0.190859</td>\n",
              "      <td>1</td>\n",
              "      <td>1</td>\n",
              "      <td>1</td>\n",
              "      <td>1</td>\n",
              "      <td>1</td>\n",
              "      <td>1</td>\n",
              "      <td>0</td>\n",
              "      <td>1</td>\n",
              "      <td>1</td>\n",
              "      <td>0</td>\n",
              "      <td>-1</td>\n",
              "      <td>1</td>\n",
              "    </tr>\n",
              "    <tr>\n",
              "      <th>2000-03-16</th>\n",
              "      <td>0.047646</td>\n",
              "      <td>0.040508</td>\n",
              "      <td>0.035022</td>\n",
              "      <td>0.024280</td>\n",
              "      <td>0.043262</td>\n",
              "      <td>0.025910</td>\n",
              "      <td>0.137780</td>\n",
              "      <td>1</td>\n",
              "      <td>1</td>\n",
              "      <td>1</td>\n",
              "      <td>1</td>\n",
              "      <td>1</td>\n",
              "      <td>1</td>\n",
              "      <td>0</td>\n",
              "      <td>1</td>\n",
              "      <td>1</td>\n",
              "      <td>0</td>\n",
              "      <td>1</td>\n",
              "      <td>1</td>\n",
              "    </tr>\n",
              "    <tr>\n",
              "      <th>2000-03-17</th>\n",
              "      <td>0.004114</td>\n",
              "      <td>0.049747</td>\n",
              "      <td>0.027720</td>\n",
              "      <td>0.047639</td>\n",
              "      <td>0.012931</td>\n",
              "      <td>0.043939</td>\n",
              "      <td>-0.126290</td>\n",
              "      <td>1</td>\n",
              "      <td>1</td>\n",
              "      <td>1</td>\n",
              "      <td>1</td>\n",
              "      <td>1</td>\n",
              "      <td>1</td>\n",
              "      <td>0</td>\n",
              "      <td>1</td>\n",
              "      <td>1</td>\n",
              "      <td>0</td>\n",
              "      <td>1</td>\n",
              "      <td>0</td>\n",
              "    </tr>\n",
              "    <tr>\n",
              "      <th>2000-03-20</th>\n",
              "      <td>-0.005353</td>\n",
              "      <td>0.052767</td>\n",
              "      <td>0.022649</td>\n",
              "      <td>0.004114</td>\n",
              "      <td>-0.004759</td>\n",
              "      <td>-0.003323</td>\n",
              "      <td>-0.289012</td>\n",
              "      <td>1</td>\n",
              "      <td>1</td>\n",
              "      <td>1</td>\n",
              "      <td>1</td>\n",
              "      <td>1</td>\n",
              "      <td>1</td>\n",
              "      <td>0</td>\n",
              "      <td>1</td>\n",
              "      <td>1</td>\n",
              "      <td>0</td>\n",
              "      <td>1</td>\n",
              "      <td>1</td>\n",
              "    </tr>\n",
              "  </tbody>\n",
              "</table>\n",
              "</div>"
            ],
            "text/plain": [
              "            Percent change 1  Percent change 5  ...  CMO 1  Y\n",
              "Date                                            ...          \n",
              "2000-03-14         -0.017685          0.002604  ...     -1  1\n",
              "2000-03-15          0.024273          0.018614  ...     -1  1\n",
              "2000-03-16          0.047646          0.040508  ...      1  1\n",
              "2000-03-17          0.004114          0.049747  ...      1  0\n",
              "2000-03-20         -0.005353          0.052767  ...      1  1\n",
              "\n",
              "[5 rows x 19 columns]"
            ]
          },
          "metadata": {
            "tags": []
          },
          "execution_count": 10
        }
      ]
    },
    {
      "cell_type": "code",
      "metadata": {
        "id": "DZMWF86Gl8Xg"
      },
      "source": [
        "X = df.copy()\n",
        "Y = X.pop('Y')\n",
        "X_train, X_valid, y_train, y_valid = train_test_split(X, Y, train_size=0.7, random_state=42, shuffle=False)"
      ],
      "execution_count": null,
      "outputs": []
    },
    {
      "cell_type": "code",
      "metadata": {
        "colab": {
          "base_uri": "https://localhost:8080/"
        },
        "id": "qz4Uj_BOmCNQ",
        "outputId": "1af7d2b3-2fce-4a1e-c2f8-75328188606d"
      },
      "source": [
        "# X_train.tail()\n",
        "# X_valid.head()\n",
        "# y_train\n",
        "# y_valid"
      ],
      "execution_count": null,
      "outputs": [
        {
          "output_type": "execute_result",
          "data": {
            "text/plain": [
              "Date\n",
              "2016-12-30    1\n",
              "2017-01-03    1\n",
              "2017-01-04    0\n",
              "2017-01-05    1\n",
              "2017-01-06    0\n",
              "             ..\n",
              "2021-03-09    1\n",
              "2021-03-10    1\n",
              "2021-03-11    1\n",
              "2021-03-12    1\n",
              "2021-03-15    0\n",
              "Name: Y, Length: 1057, dtype: int64"
            ]
          },
          "metadata": {
            "tags": []
          },
          "execution_count": 18
        }
      ]
    },
    {
      "cell_type": "code",
      "metadata": {
        "colab": {
          "base_uri": "https://localhost:8080/"
        },
        "id": "8obpZd-YmPD0",
        "outputId": "bc8db07b-b970-4a24-85d7-bf4e32f7f9fe"
      },
      "source": [
        "input_shape = [X_train.shape[1]]\n",
        "input_shape"
      ],
      "execution_count": null,
      "outputs": [
        {
          "output_type": "execute_result",
          "data": {
            "text/plain": [
              "[18]"
            ]
          },
          "metadata": {
            "tags": []
          },
          "execution_count": 40
        }
      ]
    },
    {
      "cell_type": "code",
      "metadata": {
        "id": "UxeHhPHxmweP"
      },
      "source": [
        "from tensorflow import keras\n",
        "from tensorflow.keras import layers"
      ],
      "execution_count": null,
      "outputs": []
    },
    {
      "cell_type": "code",
      "metadata": {
        "colab": {
          "base_uri": "https://localhost:8080/",
          "height": 1000
        },
        "id": "2GPqtTRAnBAw",
        "outputId": "d12ed837-a70d-4815-bf41-e2c2f2b4c921"
      },
      "source": [
        "model = keras.Sequential([\n",
        "    # layers.BatchNormalization(input_shape=input_shape),\n",
        "    layers.Dense(32, activation='relu'),\n",
        "    layers.Dropout(rate=0.2),\n",
        "    # layers.BatchNormalization(),\n",
        "    layers.Dense(16, activation='relu'),\n",
        "    layers.Dropout(rate=0.2),    \n",
        "    # layers.BatchNormalization(),\n",
        "    layers.Dense(1, activation='sigmoid')\n",
        "])\n",
        "\n",
        "model.compile(\n",
        "    optimizer='adam',\n",
        "    loss='binary_crossentropy',\n",
        "    metrics=['binary_accuracy'])\n",
        "\n",
        "early_stopping = keras.callbacks.EarlyStopping(\n",
        "    patience=10,\n",
        "    min_delta=0.001,\n",
        "    restore_best_weights=True,\n",
        ")\n",
        "\n",
        "history = model.fit(\n",
        "    X_train, y_train,\n",
        "    validation_data=(X_valid, y_valid),\n",
        "    batch_size=512,\n",
        "    epochs=20,\n",
        "    # callbacks=[early_stopping]\n",
        ")\n",
        "\n",
        "history_df = pd.DataFrame(history.history)\n",
        "history_df.loc[:, ['loss', 'val_loss']].plot(title=\"Cross-entropy\")\n",
        "history_df.loc[:, ['binary_accuracy', 'val_binary_accuracy']].plot(title=\"Accuracy\")"
      ],
      "execution_count": null,
      "outputs": [
        {
          "output_type": "stream",
          "text": [
            "Epoch 1/20\n",
            "8/8 [==============================] - 1s 33ms/step - loss: 0.7184 - binary_accuracy: 0.5145 - val_loss: 0.6983 - val_binary_accuracy: 0.4975\n",
            "Epoch 2/20\n",
            "8/8 [==============================] - 0s 8ms/step - loss: 0.7104 - binary_accuracy: 0.5047 - val_loss: 0.6956 - val_binary_accuracy: 0.5126\n",
            "Epoch 3/20\n",
            "8/8 [==============================] - 0s 8ms/step - loss: 0.7101 - binary_accuracy: 0.5094 - val_loss: 0.6947 - val_binary_accuracy: 0.5088\n",
            "Epoch 4/20\n",
            "8/8 [==============================] - 0s 8ms/step - loss: 0.7010 - binary_accuracy: 0.5259 - val_loss: 0.6936 - val_binary_accuracy: 0.5120\n",
            "Epoch 5/20\n",
            "8/8 [==============================] - 0s 8ms/step - loss: 0.7000 - binary_accuracy: 0.5064 - val_loss: 0.6923 - val_binary_accuracy: 0.5221\n",
            "Epoch 6/20\n",
            "8/8 [==============================] - 0s 8ms/step - loss: 0.6951 - binary_accuracy: 0.5203 - val_loss: 0.6917 - val_binary_accuracy: 0.5214\n",
            "Epoch 7/20\n",
            "8/8 [==============================] - 0s 7ms/step - loss: 0.6954 - binary_accuracy: 0.5419 - val_loss: 0.6914 - val_binary_accuracy: 0.5227\n",
            "Epoch 8/20\n",
            "8/8 [==============================] - 0s 8ms/step - loss: 0.6939 - binary_accuracy: 0.5244 - val_loss: 0.6914 - val_binary_accuracy: 0.5221\n",
            "Epoch 9/20\n",
            "8/8 [==============================] - 0s 8ms/step - loss: 0.6956 - binary_accuracy: 0.5092 - val_loss: 0.6912 - val_binary_accuracy: 0.5214\n",
            "Epoch 10/20\n",
            "8/8 [==============================] - 0s 7ms/step - loss: 0.6900 - binary_accuracy: 0.5298 - val_loss: 0.6910 - val_binary_accuracy: 0.5284\n",
            "Epoch 11/20\n",
            "8/8 [==============================] - 0s 7ms/step - loss: 0.6957 - binary_accuracy: 0.5139 - val_loss: 0.6906 - val_binary_accuracy: 0.5277\n",
            "Epoch 12/20\n",
            "8/8 [==============================] - 0s 8ms/step - loss: 0.6917 - binary_accuracy: 0.5392 - val_loss: 0.6903 - val_binary_accuracy: 0.5296\n",
            "Epoch 13/20\n",
            "8/8 [==============================] - 0s 7ms/step - loss: 0.6926 - binary_accuracy: 0.5123 - val_loss: 0.6904 - val_binary_accuracy: 0.5246\n",
            "Epoch 14/20\n",
            "8/8 [==============================] - 0s 8ms/step - loss: 0.6922 - binary_accuracy: 0.5234 - val_loss: 0.6903 - val_binary_accuracy: 0.5322\n",
            "Epoch 15/20\n",
            "8/8 [==============================] - 0s 8ms/step - loss: 0.6894 - binary_accuracy: 0.5420 - val_loss: 0.6901 - val_binary_accuracy: 0.5359\n",
            "Epoch 16/20\n",
            "8/8 [==============================] - 0s 8ms/step - loss: 0.6940 - binary_accuracy: 0.5214 - val_loss: 0.6901 - val_binary_accuracy: 0.5328\n",
            "Epoch 17/20\n",
            "8/8 [==============================] - 0s 8ms/step - loss: 0.6864 - binary_accuracy: 0.5462 - val_loss: 0.6899 - val_binary_accuracy: 0.5391\n",
            "Epoch 18/20\n",
            "8/8 [==============================] - 0s 9ms/step - loss: 0.6915 - binary_accuracy: 0.5296 - val_loss: 0.6899 - val_binary_accuracy: 0.5385\n",
            "Epoch 19/20\n",
            "8/8 [==============================] - 0s 8ms/step - loss: 0.6899 - binary_accuracy: 0.5332 - val_loss: 0.6897 - val_binary_accuracy: 0.5385\n",
            "Epoch 20/20\n",
            "8/8 [==============================] - 0s 9ms/step - loss: 0.6915 - binary_accuracy: 0.5246 - val_loss: 0.6897 - val_binary_accuracy: 0.5378\n"
          ],
          "name": "stdout"
        },
        {
          "output_type": "execute_result",
          "data": {
            "text/plain": [
              "<matplotlib.axes._subplots.AxesSubplot at 0x7f32f4e82ad0>"
            ]
          },
          "metadata": {
            "tags": []
          },
          "execution_count": 77
        },
        {
          "output_type": "display_data",
          "data": {
            "image/png": "[encoded data removed]",
            "text/plain": [
              "<Figure size 432x288 with 1 Axes>"
            ]
          },
          "metadata": {
            "tags": [],
            "needs_background": "light"
          }
        },
        {
          "output_type": "display_data",
          "data": {
            "image/png": "[encoded data removed]",
            "text/plain": [
              "<Figure size 432x288 with 1 Axes>"
            ]
          },
          "metadata": {
            "tags": [],
            "needs_background": "light"
          }
        }
      ]
    },
    {
      "cell_type": "code",
      "metadata": {
        "colab": {
          "base_uri": "https://localhost:8080/",
          "height": 644
        },
        "id": "WUymCHk7n2mr",
        "outputId": "d22d5aa0-9703-47f2-cd9b-857b98021d4b"
      },
      "source": [
        "from keras.utils.vis_utils import plot_model\n",
        "plot_model(model, to_file='model_plot.png', show_shapes=True, show_layer_names=True)"
      ],
      "execution_count": null,
      "outputs": [
        {
          "output_type": "execute_result",
          "data": {
            "image/png": "[encoded data removed]",
            "text/plain": [
              "<IPython.core.display.Image object>"
            ]
          },
          "metadata": {
            "tags": []
          },
          "execution_count": 78
        }
      ]
    }
  ]
}